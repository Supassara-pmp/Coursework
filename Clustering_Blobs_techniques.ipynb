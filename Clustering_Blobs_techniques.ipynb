{
  "nbformat": 4,
  "nbformat_minor": 0,
  "metadata": {
    "colab": {
      "provenance": [],
      "include_colab_link": true
    },
    "kernelspec": {
      "name": "python3",
      "display_name": "Python 3"
    },
    "language_info": {
      "name": "python"
    }
  },
  "cells": [
    {
      "cell_type": "markdown",
      "metadata": {
        "id": "view-in-github",
        "colab_type": "text"
      },
      "source": [
        "<a href=\"https://colab.research.google.com/github/Supassara-pmp/Coursework/blob/main/Clustering_Blobs_techniques.ipynb\" target=\"_parent\"><img src=\"https://colab.research.google.com/assets/colab-badge.svg\" alt=\"Open In Colab\"/></a>"
      ]
    },
    {
      "cell_type": "markdown",
      "metadata": {
        "id": "7FMfrJIHKD81"
      },
      "source": [
        "## K-means"
      ]
    },
    {
      "cell_type": "code",
      "metadata": {
        "colab": {
          "base_uri": "https://localhost:8080/"
        },
        "id": "vdn3A5D8Jvpi",
        "outputId": "a338b152-0b73-4bbb-9c76-9ab31decadd3"
      },
      "source": [
        "from sklearn.datasets import make_blobs\n",
        "from sklearn.cluster import KMeans\n",
        "\n",
        "# generate synthetic two-dimensional data\n",
        "X, y = make_blobs(random_state=1)\n",
        "\n",
        "# build the clustering model\n",
        "kmeans = KMeans(n_clusters=2)\n",
        "kmeans.fit(X)\n"
      ],
      "execution_count": null,
      "outputs": [
        {
          "output_type": "execute_result",
          "data": {
            "text/plain": [
              "KMeans(algorithm='auto', copy_x=True, init='k-means++', max_iter=300,\n",
              "       n_clusters=2, n_init=10, n_jobs=None, precompute_distances='auto',\n",
              "       random_state=None, tol=0.0001, verbose=0)"
            ]
          },
          "metadata": {},
          "execution_count": 6
        }
      ]
    },
    {
      "cell_type": "code",
      "metadata": {
        "colab": {
          "base_uri": "https://localhost:8080/"
        },
        "id": "1XyTTcd0KCf7",
        "outputId": "f7529a5a-6a9d-4a85-bd11-f7336b42e87c"
      },
      "source": [
        "print(\"Cluster memberships:\\n{}\".format(kmeans.labels_))"
      ],
      "execution_count": null,
      "outputs": [
        {
          "output_type": "stream",
          "name": "stdout",
          "text": [
            "Cluster memberships:\n",
            "[0 1 1 1 1 1 1 1 0 0 1 1 1 0 1 1 1 0 1 1 1 1 1 0 1 1 1 0 0 1 0 0 1 0 1 1 1\n",
            " 1 1 1 1 1 0 1 1 1 0 0 0 0 1 1 1 1 0 1 1 1 0 0 1 1 1 1 1 1 0 1 0 1 1 1 1 0\n",
            " 0 1 1 1 0 1 0 1 1 1 0 0 0 0 1 0 1 0 0 1 1 1 1 0 1 0]\n"
          ]
        }
      ]
    },
    {
      "cell_type": "code",
      "metadata": {
        "id": "k4PdpvhbLhUT"
      },
      "source": [
        "import matplotlib.pyplot as plt"
      ],
      "execution_count": null,
      "outputs": []
    },
    {
      "cell_type": "code",
      "metadata": {
        "colab": {
          "base_uri": "https://localhost:8080/",
          "height": 296
        },
        "id": "7B6RgA15ZlFP",
        "outputId": "7bded24b-c349-4df2-fcb0-e2553ff4cb90"
      },
      "source": [
        "plt.scatter(X[kmeans.labels_ == 0, 0], X[kmeans.labels_ == 0, 1], s = 50, c = 'blue', label = 'Cluster 0', marker = 'o')\n",
        "plt.scatter(X[kmeans.labels_ == 1, 0], X[kmeans.labels_ == 1, 1], s = 50, c = 'magenta', label = 'Cluster 1', marker = 'v')\n",
        "\n",
        "plt.legend()\n",
        "plt.xlabel(\"Feature 0\")\n",
        "\n",
        "plt.ylabel(\"Feature 1\")"
      ],
      "execution_count": null,
      "outputs": [
        {
          "output_type": "execute_result",
          "data": {
            "text/plain": [
              "Text(0, 0.5, 'Feature 1')"
            ]
          },
          "metadata": {},
          "execution_count": 9
        },
        {
          "output_type": "display_data",
          "data": {
            "image/png": "[encoded data removed]",
            "text/plain": [
              "<Figure size 432x288 with 1 Axes>"
            ]
          },
          "metadata": {
            "needs_background": "light"
          }
        }
      ]
    },
    {
      "cell_type": "code",
      "metadata": {
        "colab": {
          "base_uri": "https://localhost:8080/"
        },
        "id": "Dx0RorrBJ2Lv",
        "outputId": "d43a55fe-1a83-4a01-9c31-04c293b1fc91"
      },
      "source": [
        "# build the clustering model\n",
        "kmeans = KMeans(n_clusters=5)\n",
        "kmeans.fit(X)\n"
      ],
      "execution_count": null,
      "outputs": [
        {
          "output_type": "execute_result",
          "data": {
            "text/plain": [
              "KMeans(algorithm='auto', copy_x=True, init='k-means++', max_iter=300,\n",
              "       n_clusters=5, n_init=10, n_jobs=None, precompute_distances='auto',\n",
              "       random_state=None, tol=0.0001, verbose=0)"
            ]
          },
          "metadata": {},
          "execution_count": 10
        }
      ]
    },
    {
      "cell_type": "code",
      "metadata": {
        "colab": {
          "base_uri": "https://localhost:8080/",
          "height": 296
        },
        "id": "YV4FtKEOW77W",
        "outputId": "f7aacd01-2693-46cd-afb3-f6b241454128"
      },
      "source": [
        "plt.scatter(X[kmeans.labels_ == 0, 0], X[kmeans.labels_ == 0, 1], s = 50, c = 'blue', label = 'Cluster 0', marker = 'o')\n",
        "plt.scatter(X[kmeans.labels_ == 1, 0], X[kmeans.labels_ == 1, 1], s = 50, c = 'green', label = 'Cluster 1', marker = 'v')\n",
        "plt.scatter(X[kmeans.labels_ == 2, 0], X[kmeans.labels_ == 2, 1], s = 50, c = 'red', label = 'Cluster 2', marker = '^')\n",
        "plt.scatter(X[kmeans.labels_ == 3, 0], X[kmeans.labels_ == 3, 1], s = 50, c = 'gold', label = 'Cluster 3', marker = 's')\n",
        "plt.scatter(X[kmeans.labels_ == 4, 0], X[kmeans.labels_ == 4, 1], s = 50, c = 'magenta', label = 'Cluster 4', marker = 'D')\n",
        "plt.legend()\n",
        "plt.xlabel(\"Feature 0\")\n",
        "\n",
        "plt.ylabel(\"Feature 1\")"
      ],
      "execution_count": null,
      "outputs": [
        {
          "output_type": "execute_result",
          "data": {
            "text/plain": [
              "Text(0, 0.5, 'Feature 1')"
            ]
          },
          "metadata": {},
          "execution_count": 11
        },
        {
          "output_type": "display_data",
          "data": {
            "image/png": "[encoded data removed]",
            "text/plain": [
              "<Figure size 432x288 with 1 Axes>"
            ]
          },
          "metadata": {
            "needs_background": "light"
          }
        }
      ]
    },
    {
      "cell_type": "markdown",
      "metadata": {
        "id": "DFhxyD9LKKo_"
      },
      "source": [
        "## Agglomerative"
      ]
    },
    {
      "cell_type": "code",
      "metadata": {
        "id": "lm8MqsQ-BBnj"
      },
      "source": [
        "from matplotlib import pyplot as plt\n",
        "from sklearn.datasets import make_blobs\n",
        "from sklearn.cluster import AgglomerativeClustering\n",
        "\n",
        "X, y = make_blobs(random_state=1)\n",
        "\n",
        "agg = AgglomerativeClustering(n_clusters=3)\n",
        "assignment = agg.fit_predict(X)"
      ],
      "execution_count": null,
      "outputs": []
    },
    {
      "cell_type": "code",
      "metadata": {
        "colab": {
          "base_uri": "https://localhost:8080/",
          "height": 296
        },
        "id": "mBpm9iSpT3Xw",
        "outputId": "5f08c9d1-c2fc-4e60-8c3f-7a98243d3800"
      },
      "source": [
        "plt.scatter(X[y == 0, 0], X[y == 0, 1], s = 50, c = 'blue', label = 'Cluster 0', marker = 'o')\n",
        "plt.scatter(X[y == 1, 0], X[y == 1, 1], s = 50, c = 'green', label = 'Cluster 1', marker = 'v')\n",
        "plt.scatter(X[y == 2, 0], X[y == 2, 1], s = 50, c = 'red', label = 'Cluster 2', marker = '^')\n",
        "plt.legend()\n",
        "plt.xlabel(\"Feature 0\")\n",
        "\n",
        "plt.ylabel(\"Feature 1\")"
      ],
      "execution_count": null,
      "outputs": [
        {
          "output_type": "execute_result",
          "data": {
            "text/plain": [
              "Text(0, 0.5, 'Feature 1')"
            ]
          },
          "metadata": {},
          "execution_count": 16
        },
        {
          "output_type": "display_data",
          "data": {
            "image/png": "[encoded data removed]",
            "text/plain": [
              "<Figure size 432x288 with 1 Axes>"
            ]
          },
          "metadata": {
            "needs_background": "light"
          }
        }
      ]
    },
    {
      "cell_type": "code",
      "metadata": {
        "colab": {
          "base_uri": "https://localhost:8080/",
          "height": 299
        },
        "id": "Dm6aXyMqBAlZ",
        "outputId": "a6f31273-e688-4844-cabd-7ac3bccf4ddd"
      },
      "source": [
        "# Import the dendrogram function and the ward clustering function from SciPy\n",
        "from scipy.cluster.hierarchy import dendrogram, ward\n",
        "\n",
        "X, y = make_blobs(random_state=0, n_samples=12)\n",
        "\n",
        "# Apply the ward clustering to the data array X\n",
        "\n",
        "# The SciPy ward function returns an array that specifies the distances\n",
        "# bridged when performing agglomerative clustering\n",
        "\n",
        "linkage_array = ward(X)\n",
        "\n",
        "# Now we plot the dendrogram from the linkage_array\n",
        "dendrogram(linkage_array)\n",
        "\n",
        "# Mark the cuts in the tree that signify two or three clusters\n",
        "ax = plt.gca()\n",
        "\n",
        "bounds = ax.get_xbound()\n",
        "ax.plot(bounds, [7.25, 7.25], '--', c='k')\n",
        "ax.plot(bounds, [4, 4], '--', c='k')\n",
        "\n",
        "ax.text(bounds[1], 7.25, ' two clusters', va='center', fontdict={'size': 15})\n",
        "ax.text(bounds[1], 4, ' three clusters', va='center', fontdict={'size': 15})\n",
        "plt.xlabel(\"Sample index\")\n",
        "\n",
        "plt.ylabel(\"Cluster distance\")\n"
      ],
      "execution_count": null,
      "outputs": [
        {
          "output_type": "execute_result",
          "data": {
            "text/plain": [
              "Text(0, 0.5, 'Cluster distance')"
            ]
          },
          "metadata": {},
          "execution_count": 17
        },
        {
          "output_type": "display_data",
          "data": {
            "image/png": "[encoded data removed]",
            "text/plain": [
              "<Figure size 432x288 with 1 Axes>"
            ]
          },
          "metadata": {
            "needs_background": "light"
          }
        }
      ]
    }
  ]
}