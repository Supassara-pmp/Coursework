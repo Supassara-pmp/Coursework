{
  "nbformat": 4,
  "nbformat_minor": 0,
  "metadata": {
    "colab": {
      "provenance": [],
      "include_colab_link": true
    },
    "kernelspec": {
      "name": "python3",
      "display_name": "Python 3"
    },
    "language_info": {
      "name": "python"
    }
  },
  "cells": [
    {
      "cell_type": "markdown",
      "metadata": {
        "id": "view-in-github",
        "colab_type": "text"
      },
      "source": [
        "<a href=\"https://colab.research.google.com/github/Supassara-pmp/Coursework/blob/main/Linear_Regression_Boston.ipynb\" target=\"_parent\"><img src=\"https://colab.research.google.com/assets/colab-badge.svg\" alt=\"Open In Colab\"/></a>"
      ]
    },
    {
      "cell_type": "markdown",
      "metadata": {
        "id": "IJhN3st6kzil"
      },
      "source": [
        "## **Compare performance of linear models (OLS-Ridge-Lasso) on Boston dataset**"
      ]
    },
    {
      "cell_type": "code",
      "metadata": {
        "id": "STYVEJ2lBx3h",
        "colab": {
          "base_uri": "https://localhost:8080/"
        },
        "outputId": "44f1a7fb-c487-466c-a5a6-7631cf891174",
        "collapsed": true
      },
      "source": [
        "!pip install mglearn"
      ],
      "execution_count": null,
      "outputs": [
        {
          "output_type": "stream",
          "name": "stdout",
          "text": [
            "Collecting mglearn\n",
            "  Downloading mglearn-0.1.9.tar.gz (540 kB)\n",
            "\u001b[?25l\r\u001b[K     |▋                               | 10 kB 22.9 MB/s eta 0:00:01\r\u001b[K     |█▏                              | 20 kB 25.0 MB/s eta 0:00:01\r\u001b[K     |█▉                              | 30 kB 28.6 MB/s eta 0:00:01\r\u001b[K     |██▍                             | 40 kB 31.2 MB/s eta 0:00:01\r\u001b[K     |███                             | 51 kB 33.9 MB/s eta 0:00:01\r\u001b[K     |███▋                            | 61 kB 29.7 MB/s eta 0:00:01\r\u001b[K     |████▎                           | 71 kB 25.2 MB/s eta 0:00:01\r\u001b[K     |████▉                           | 81 kB 25.9 MB/s eta 0:00:01\r\u001b[K     |█████▌                          | 92 kB 27.4 MB/s eta 0:00:01\r\u001b[K     |██████                          | 102 kB 29.2 MB/s eta 0:00:01\r\u001b[K     |██████▊                         | 112 kB 29.2 MB/s eta 0:00:01\r\u001b[K     |███████▎                        | 122 kB 29.2 MB/s eta 0:00:01\r\u001b[K     |███████▉                        | 133 kB 29.2 MB/s eta 0:00:01\r\u001b[K     |████████▌                       | 143 kB 29.2 MB/s eta 0:00:01\r\u001b[K     |█████████                       | 153 kB 29.2 MB/s eta 0:00:01\r\u001b[K     |█████████▊                      | 163 kB 29.2 MB/s eta 0:00:01\r\u001b[K     |██████████▎                     | 174 kB 29.2 MB/s eta 0:00:01\r\u001b[K     |███████████                     | 184 kB 29.2 MB/s eta 0:00:01\r\u001b[K     |███████████▌                    | 194 kB 29.2 MB/s eta 0:00:01\r\u001b[K     |████████████▏                   | 204 kB 29.2 MB/s eta 0:00:01\r\u001b[K     |████████████▊                   | 215 kB 29.2 MB/s eta 0:00:01\r\u001b[K     |█████████████▍                  | 225 kB 29.2 MB/s eta 0:00:01\r\u001b[K     |██████████████                  | 235 kB 29.2 MB/s eta 0:00:01\r\u001b[K     |██████████████▋                 | 245 kB 29.2 MB/s eta 0:00:01\r\u001b[K     |███████████████▏                | 256 kB 29.2 MB/s eta 0:00:01\r\u001b[K     |███████████████▊                | 266 kB 29.2 MB/s eta 0:00:01\r\u001b[K     |████████████████▍               | 276 kB 29.2 MB/s eta 0:00:01\r\u001b[K     |█████████████████               | 286 kB 29.2 MB/s eta 0:00:01\r\u001b[K     |█████████████████▋              | 296 kB 29.2 MB/s eta 0:00:01\r\u001b[K     |██████████████████▏             | 307 kB 29.2 MB/s eta 0:00:01\r\u001b[K     |██████████████████▉             | 317 kB 29.2 MB/s eta 0:00:01\r\u001b[K     |███████████████████▍            | 327 kB 29.2 MB/s eta 0:00:01\r\u001b[K     |████████████████████            | 337 kB 29.2 MB/s eta 0:00:01\r\u001b[K     |████████████████████▋           | 348 kB 29.2 MB/s eta 0:00:01\r\u001b[K     |█████████████████████▎          | 358 kB 29.2 MB/s eta 0:00:01\r\u001b[K     |█████████████████████▉          | 368 kB 29.2 MB/s eta 0:00:01\r\u001b[K     |██████████████████████▌         | 378 kB 29.2 MB/s eta 0:00:01\r\u001b[K     |███████████████████████         | 389 kB 29.2 MB/s eta 0:00:01\r\u001b[K     |███████████████████████▋        | 399 kB 29.2 MB/s eta 0:00:01\r\u001b[K     |████████████████████████▎       | 409 kB 29.2 MB/s eta 0:00:01\r\u001b[K     |████████████████████████▉       | 419 kB 29.2 MB/s eta 0:00:01\r\u001b[K     |█████████████████████████▌      | 430 kB 29.2 MB/s eta 0:00:01\r\u001b[K     |██████████████████████████      | 440 kB 29.2 MB/s eta 0:00:01\r\u001b[K     |██████████████████████████▊     | 450 kB 29.2 MB/s eta 0:00:01\r\u001b[K     |███████████████████████████▎    | 460 kB 29.2 MB/s eta 0:00:01\r\u001b[K     |████████████████████████████    | 471 kB 29.2 MB/s eta 0:00:01\r\u001b[K     |████████████████████████████▌   | 481 kB 29.2 MB/s eta 0:00:01\r\u001b[K     |█████████████████████████████▏  | 491 kB 29.2 MB/s eta 0:00:01\r\u001b[K     |█████████████████████████████▊  | 501 kB 29.2 MB/s eta 0:00:01\r\u001b[K     |██████████████████████████████▍ | 512 kB 29.2 MB/s eta 0:00:01\r\u001b[K     |███████████████████████████████ | 522 kB 29.2 MB/s eta 0:00:01\r\u001b[K     |███████████████████████████████▌| 532 kB 29.2 MB/s eta 0:00:01\r\u001b[K     |████████████████████████████████| 540 kB 29.2 MB/s \n",
            "\u001b[?25hRequirement already satisfied: numpy in /usr/local/lib/python3.7/dist-packages (from mglearn) (1.19.5)\n",
            "Requirement already satisfied: matplotlib in /usr/local/lib/python3.7/dist-packages (from mglearn) (3.2.2)\n",
            "Requirement already satisfied: scikit-learn in /usr/local/lib/python3.7/dist-packages (from mglearn) (0.22.2.post1)\n",
            "Requirement already satisfied: pandas in /usr/local/lib/python3.7/dist-packages (from mglearn) (1.1.5)\n",
            "Requirement already satisfied: pillow in /usr/local/lib/python3.7/dist-packages (from mglearn) (7.1.2)\n",
            "Requirement already satisfied: cycler in /usr/local/lib/python3.7/dist-packages (from mglearn) (0.10.0)\n",
            "Requirement already satisfied: imageio in /usr/local/lib/python3.7/dist-packages (from mglearn) (2.4.1)\n",
            "Requirement already satisfied: joblib in /usr/local/lib/python3.7/dist-packages (from mglearn) (1.0.1)\n",
            "Requirement already satisfied: six in /usr/local/lib/python3.7/dist-packages (from cycler->mglearn) (1.15.0)\n",
            "Requirement already satisfied: kiwisolver>=1.0.1 in /usr/local/lib/python3.7/dist-packages (from matplotlib->mglearn) (1.3.2)\n",
            "Requirement already satisfied: python-dateutil>=2.1 in /usr/local/lib/python3.7/dist-packages (from matplotlib->mglearn) (2.8.2)\n",
            "Requirement already satisfied: pyparsing!=2.0.4,!=2.1.2,!=2.1.6,>=2.0.1 in /usr/local/lib/python3.7/dist-packages (from matplotlib->mglearn) (2.4.7)\n",
            "Requirement already satisfied: pytz>=2017.2 in /usr/local/lib/python3.7/dist-packages (from pandas->mglearn) (2018.9)\n",
            "Requirement already satisfied: scipy>=0.17.0 in /usr/local/lib/python3.7/dist-packages (from scikit-learn->mglearn) (1.4.1)\n",
            "Building wheels for collected packages: mglearn\n",
            "  Building wheel for mglearn (setup.py) ... \u001b[?25l\u001b[?25hdone\n",
            "  Created wheel for mglearn: filename=mglearn-0.1.9-py2.py3-none-any.whl size=582637 sha256=bc2f460b412854708e1e7731f0ba6764913f665bfbb373eea336e395c2f4e3b0\n",
            "  Stored in directory: /root/.cache/pip/wheels/f1/17/e1/1720d6dcd70187b6b6c3750cb3508798f2b1d57c9d3214b08b\n",
            "Successfully built mglearn\n",
            "Installing collected packages: mglearn\n",
            "Successfully installed mglearn-0.1.9\n"
          ]
        }
      ]
    },
    {
      "cell_type": "markdown",
      "metadata": {
        "id": "_rO-ieAifWiD"
      },
      "source": [
        "## Ordinary Least Squared - Boston dataset"
      ]
    },
    {
      "cell_type": "code",
      "metadata": {
        "id": "r41DdAnGBHI9"
      },
      "source": [
        "import mglearn\n",
        "from sklearn.model_selection import train_test_split\n",
        "from sklearn.linear_model import LinearRegression\n",
        "\n",
        "\n",
        "X, y = mglearn.datasets.load_extended_boston()\n",
        "\n",
        "X_train, X_test, y_train, y_test = train_test_split(X, y, random_state=0)\n",
        "\n",
        "lr = LinearRegression().fit(X_train, y_train)"
      ],
      "execution_count": null,
      "outputs": []
    },
    {
      "cell_type": "code",
      "metadata": {
        "colab": {
          "base_uri": "https://localhost:8080/"
        },
        "id": "8H7ooxHbB15W",
        "outputId": "7d5629b6-70d0-4a3a-9c01-3026bf497731"
      },
      "source": [
        "print(\"lr.coef_: {}\".format(lr.coef_))\n",
        "print(\"lr.intercept_: {}\".format(lr.intercept_))\n"
      ],
      "execution_count": null,
      "outputs": [
        {
          "output_type": "stream",
          "name": "stdout",
          "text": [
            "lr.coef_: [-4.12710947e+02 -5.22432068e+01 -1.31898815e+02 -1.20041365e+01\n",
            " -1.55107129e+01  2.87163342e+01  5.47040992e+01 -4.95346659e+01\n",
            "  2.65823927e+01  3.70620316e+01 -1.18281674e+01 -1.80581965e+01\n",
            " -1.95246830e+01  1.22025403e+01  2.98078144e+03  1.50084257e+03\n",
            "  1.14187325e+02 -1.69700520e+01  4.09613691e+01 -2.42636646e+01\n",
            "  5.76157466e+01  1.27812142e+03 -2.23986944e+03  2.22825472e+02\n",
            " -2.18201083e+00  4.29960320e+01 -1.33981515e+01 -1.93893485e+01\n",
            " -2.57541277e+00 -8.10130128e+01  9.66019367e+00  4.91423718e+00\n",
            " -8.12114800e-01 -7.64694179e+00  3.37837099e+01 -1.14464390e+01\n",
            "  6.85083979e+01 -1.73753604e+01  4.28128204e+01  1.13988209e+00\n",
            " -7.72696840e-01  5.68255921e+01  1.42875996e+01  5.39551110e+01\n",
            " -3.21709644e+01  1.92709675e+01 -1.38852338e+01  6.06343266e+01\n",
            " -1.23153942e+01 -1.20041365e+01 -1.77243899e+01 -3.39868183e+01\n",
            "  7.08999816e+00 -9.22538241e+00  1.71980268e+01 -1.27718431e+01\n",
            " -1.19727581e+01  5.73871915e+01 -1.75331865e+01  4.10103194e+00\n",
            "  2.93666477e+01 -1.76611772e+01  7.84049424e+01 -3.19098015e+01\n",
            "  4.81752461e+01 -3.95344813e+01  5.22959055e+00  2.19982410e+01\n",
            "  2.56483934e+01 -4.99982035e+01  2.91457545e+01  8.94267456e+00\n",
            " -7.16599297e+01 -2.28147862e+01  8.40660981e+00 -5.37905422e+00\n",
            "  1.20137322e+00 -5.20877186e+00  4.11452351e+01 -3.78250760e+01\n",
            " -2.67163851e+00 -2.55217108e+01 -3.33982030e+01  4.62272693e+01\n",
            " -2.41509169e+01 -1.77532970e+01 -1.39723701e+01 -2.35522208e+01\n",
            "  3.68353800e+01 -9.46890859e+01  1.44302810e+02 -1.51158659e+01\n",
            " -1.49513436e+01 -2.87729579e+01 -3.17673192e+01  2.49551594e+01\n",
            " -1.84384534e+01  3.65073948e+00  1.73101122e+00  3.53617137e+01\n",
            "  1.19553429e+01  6.77025947e-01  2.73452009e+00  3.03720012e+01]\n",
            "lr.intercept_: 30.934563673644632\n"
          ]
        }
      ]
    },
    {
      "cell_type": "code",
      "metadata": {
        "colab": {
          "base_uri": "https://localhost:8080/"
        },
        "id": "zcBIXiOtDtbF",
        "outputId": "8fbfc938-f4af-432d-cee2-45c6aa221f6a"
      },
      "source": [
        "print(\"Training set score: {:.2f}\".format(lr.score(X_train, y_train)))\n",
        "print(\"Test set score: {:.2f}\".format(lr.score(X_test, y_test)))\n"
      ],
      "execution_count": null,
      "outputs": [
        {
          "output_type": "stream",
          "name": "stdout",
          "text": [
            "Training set score: 0.95\n",
            "Test set score: 0.61\n"
          ]
        }
      ]
    },
    {
      "cell_type": "code",
      "metadata": {
        "id": "2iCnjRw1glHI"
      },
      "source": [
        "# With linear regression, we were overfitting our data"
      ],
      "execution_count": null,
      "outputs": []
    },
    {
      "cell_type": "markdown",
      "metadata": {
        "id": "Lyj3Kaf_fl9q"
      },
      "source": [
        "## Ridge Regression - Boston dataset"
      ]
    },
    {
      "cell_type": "code",
      "metadata": {
        "id": "_pJdvUoSHuAO"
      },
      "source": [
        "from sklearn.linear_model import Ridge\n",
        "\n",
        "ridge = Ridge().fit(X_train, y_train)\n",
        "\n"
      ],
      "execution_count": null,
      "outputs": []
    },
    {
      "cell_type": "code",
      "metadata": {
        "colab": {
          "base_uri": "https://localhost:8080/"
        },
        "id": "PIAdksJUgUJP",
        "outputId": "ca65d85c-1f72-4afb-ec41-c9052a08d195"
      },
      "source": [
        "print(\"Training set score: {:.2f}\".format(ridge.score(X_train, y_train)))\n",
        "print(\"Test set score: {:.2f}\".format(ridge.score(X_test, y_test)))\n"
      ],
      "execution_count": null,
      "outputs": [
        {
          "output_type": "stream",
          "name": "stdout",
          "text": [
            "Training set score: 0.89\n",
            "Test set score: 0.75\n"
          ]
        }
      ]
    },
    {
      "cell_type": "code",
      "metadata": {
        "id": "dVlUTsaWggdT"
      },
      "source": [
        "# Ridge is a more restricted model, so we are less likely to overfit."
      ],
      "execution_count": null,
      "outputs": []
    },
    {
      "cell_type": "markdown",
      "metadata": {
        "id": "-W9ClAxCjdbJ"
      },
      "source": [
        "**Try with different alpha**"
      ]
    },
    {
      "cell_type": "code",
      "metadata": {
        "colab": {
          "base_uri": "https://localhost:8080/"
        },
        "id": "MbdswGOahBXy",
        "outputId": "c0d11cf8-d656-40b4-9c59-bf78127a969b"
      },
      "source": [
        "# Alpha = 10\n",
        "ridge10 = Ridge(alpha=10).fit(X_train, y_train)\n",
        "\n",
        "print(\"Training set score: {:.2f}\".format(ridge10.score(X_train, y_train)))\n",
        "print(\"Test set score: {:.2f}\".format(ridge10.score(X_test, y_test)))\n"
      ],
      "execution_count": null,
      "outputs": [
        {
          "output_type": "stream",
          "name": "stdout",
          "text": [
            "Training set score: 0.79\n",
            "Test set score: 0.64\n"
          ]
        }
      ]
    },
    {
      "cell_type": "code",
      "metadata": {
        "colab": {
          "base_uri": "https://localhost:8080/"
        },
        "id": "n-1Nym-eiPog",
        "outputId": "1354a94c-64d1-4890-f34b-027f745321ca"
      },
      "source": [
        "# Alpha = 1 (default)\n",
        "ridge1 = Ridge(alpha=1).fit(X_train, y_train)\n",
        "\n",
        "print(\"Training set score: {:.2f}\".format(ridge1.score(X_train, y_train)))\n",
        "print(\"Test set score: {:.2f}\".format(ridge1.score(X_test, y_test)))"
      ],
      "execution_count": null,
      "outputs": [
        {
          "output_type": "stream",
          "name": "stdout",
          "text": [
            "Training set score: 0.89\n",
            "Test set score: 0.75\n"
          ]
        }
      ]
    },
    {
      "cell_type": "code",
      "metadata": {
        "colab": {
          "base_uri": "https://localhost:8080/"
        },
        "id": "jQEb1_qPhdzM",
        "outputId": "409cf4fc-8148-465a-9b85-1bfabf4657be"
      },
      "source": [
        "# Alpha = 0.1\n",
        "ridge01 = Ridge(alpha=0.1).fit(X_train, y_train)\n",
        "\n",
        "print(\"Training set score: {:.2f}\".format(ridge01.score(X_train, y_train)))\n",
        "print(\"Test set score: {:.2f}\".format(ridge01.score(X_test, y_test)))\n"
      ],
      "execution_count": null,
      "outputs": [
        {
          "output_type": "stream",
          "name": "stdout",
          "text": [
            "Training set score: 0.93\n",
            "Test set score: 0.77\n"
          ]
        }
      ]
    },
    {
      "cell_type": "code",
      "metadata": {
        "colab": {
          "base_uri": "https://localhost:8080/",
          "height": 297
        },
        "id": "3fGL8znDinzp",
        "outputId": "ecafddab-8888-4628-abf0-45e1a2c6b5a2"
      },
      "source": [
        "from matplotlib import pyplot as plt\n",
        "\n",
        "plt.plot(ridge.coef_, 's', label=\"Ridge alpha=1\")\n",
        "plt.plot(ridge10.coef_, '^', label=\"Ridge alpha=10\")\n",
        "plt.plot(ridge01.coef_, 'v', label=\"Ridge alpha=0.1\")\n",
        "\n",
        "plt.plot(lr.coef_, 'o', label=\"LinearRegression\")\n",
        "plt.xlabel(\"Coefficient index\")\n",
        "plt.ylabel(\"Coefficient magnitude\")\n",
        "plt.hlines(0, 0, len(lr.coef_))\n",
        "plt.ylim(-25, 25)\n",
        "plt.legend()\n"
      ],
      "execution_count": null,
      "outputs": [
        {
          "output_type": "execute_result",
          "data": {
            "text/plain": [
              "<matplotlib.legend.Legend at 0x7fee7590ec90>"
            ]
          },
          "metadata": {},
          "execution_count": 12
        },
        {
          "output_type": "display_data",
          "data": {
            "image/png": "[encoded data removed]",
            "text/plain": [
              "<Figure size 432x288 with 1 Axes>"
            ]
          },
          "metadata": {
            "needs_background": "light"
          }
        }
      ]
    },
    {
      "cell_type": "markdown",
      "metadata": {
        "id": "sKJutpOhjt24"
      },
      "source": [
        "**Fix alpha but vary the amount of  training data**"
      ]
    },
    {
      "cell_type": "code",
      "metadata": {
        "colab": {
          "base_uri": "https://localhost:8080/",
          "height": 325
        },
        "id": "GuW1PBCwjs6K",
        "outputId": "b648d9d8-a5a3-41cf-dcf1-775d8d41fef1"
      },
      "source": [
        "mglearn.plots.plot_ridge_n_samples()"
      ],
      "execution_count": null,
      "outputs": [
        {
          "output_type": "display_data",
          "data": {
            "image/png": "[encoded data removed]",
            "text/plain": [
              "<Figure size 432x288 with 1 Axes>"
            ]
          },
          "metadata": {
            "needs_background": "light"
          }
        }
      ]
    },
    {
      "cell_type": "markdown",
      "metadata": {
        "id": "LqeaNXYknYCj"
      },
      "source": [
        "## Lasso Regression - Boston dataset"
      ]
    },
    {
      "cell_type": "code",
      "metadata": {
        "id": "LJIjZo0IoB91"
      },
      "source": [
        "import numpy as np\n",
        "\n",
        "from sklearn.linear_model import Lasso\n",
        "\n",
        "lasso = Lasso().fit(X_train, y_train)\n"
      ],
      "execution_count": null,
      "outputs": []
    },
    {
      "cell_type": "code",
      "metadata": {
        "colab": {
          "base_uri": "https://localhost:8080/"
        },
        "id": "ovbeYAptoFpV",
        "outputId": "953945eb-d507-48de-b02b-85372a2372f1"
      },
      "source": [
        "print(\"Training set score: {:.2f}\".format(lasso.score(X_train, y_train)))\n",
        "print(\"Test set score: {:.2f}\".format(lasso.score(X_test, y_test)))\n",
        "print(\"Number of features used: {}\".format(np.sum(lasso.coef_ != 0)))\n"
      ],
      "execution_count": null,
      "outputs": [
        {
          "output_type": "stream",
          "name": "stdout",
          "text": [
            "Training set score: 0.29\n",
            "Test set score: 0.21\n",
            "Number of features used: 4\n"
          ]
        }
      ]
    },
    {
      "cell_type": "code",
      "metadata": {
        "id": "m0RBcfG-oSrd"
      },
      "source": [
        "# only 4 out of 105 features are used"
      ],
      "execution_count": null,
      "outputs": []
    },
    {
      "cell_type": "markdown",
      "metadata": {
        "id": "fhBeOfZ4pVSX"
      },
      "source": [
        "**Try with different alpha**"
      ]
    },
    {
      "cell_type": "code",
      "metadata": {
        "colab": {
          "base_uri": "https://localhost:8080/"
        },
        "id": "0i-iBrhToX11",
        "outputId": "3728d50b-7012-40b8-d02e-b2d2a7550e93"
      },
      "source": [
        "lasso001 = Lasso(alpha=0.01, max_iter=100000).fit(X_train, y_train)\n",
        "print(\"Training set score: {:.2f}\".format(lasso001.score(X_train, y_train)))\n",
        "print(\"Test set score: {:.2f}\".format(lasso001.score(X_test, y_test)))\n",
        "print(\"Number of features used: {}\".format(np.sum(lasso001.coef_ != 0)))\n"
      ],
      "execution_count": null,
      "outputs": [
        {
          "output_type": "stream",
          "name": "stdout",
          "text": [
            "Training set score: 0.90\n",
            "Test set score: 0.77\n",
            "Number of features used: 33\n"
          ]
        }
      ]
    },
    {
      "cell_type": "code",
      "metadata": {
        "id": "4xUkl8Sgo7Kp"
      },
      "source": [
        "# The performance is slightly better than using Ridge, and we are using only 33 of the 105 features.\n",
        "# This makes this model potentially easier to understand.\n"
      ],
      "execution_count": null,
      "outputs": []
    },
    {
      "cell_type": "code",
      "metadata": {
        "colab": {
          "base_uri": "https://localhost:8080/"
        },
        "id": "JXR1alPgpG7J",
        "outputId": "25ca3879-7811-4679-bd80-fb85c8ead255"
      },
      "source": [
        "lasso00001 = Lasso(alpha=0.0001, max_iter=100000).fit(X_train, y_train)\n",
        "print(\"Training set score: {:.2f}\".format(lasso00001.score(X_train, y_train)))\n",
        "print(\"Test set score: {:.2f}\".format(lasso00001.score(X_test, y_test)))\n",
        "print(\"Number of features used: {}\".format(np.sum(lasso00001.coef_ != 0)))\n"
      ],
      "execution_count": null,
      "outputs": [
        {
          "output_type": "stream",
          "name": "stdout",
          "text": [
            "Training set score: 0.95\n",
            "Test set score: 0.64\n",
            "Number of features used: 96\n"
          ]
        }
      ]
    },
    {
      "cell_type": "code",
      "metadata": {
        "colab": {
          "base_uri": "https://localhost:8080/",
          "height": 297
        },
        "id": "XplgTmL4qz86",
        "outputId": "62d1bdea-1b51-4d08-bb00-2ea3280a97eb"
      },
      "source": [
        "from matplotlib import pyplot as plt\n",
        "\n",
        "plt.plot(lasso.coef_, 's', label=\"Lasso alpha=1\")\n",
        "plt.plot(lasso001.coef_, '^', label=\"Lasso alpha=0.01\")\n",
        "plt.plot(lasso00001.coef_, 'v', label=\"Lasso alpha=0.0001\")\n",
        "\n",
        "plt.plot(ridge01.coef_, 'o', label=\"Ridge alpha=0.1\")\n",
        "plt.xlabel(\"Coefficient index\")\n",
        "plt.ylabel(\"Coefficient magnitude\")\n",
        "plt.hlines(0, 0, len(ridge01.coef_))\n",
        "plt.ylim(-25, 25)\n",
        "plt.legend()"
      ],
      "execution_count": null,
      "outputs": [
        {
          "output_type": "execute_result",
          "data": {
            "text/plain": [
              "<matplotlib.legend.Legend at 0x7fee753ab410>"
            ]
          },
          "metadata": {},
          "execution_count": 20
        },
        {
          "output_type": "display_data",
          "data": {
            "image/png": "[encoded data removed]",
            "text/plain": [
              "<Figure size 432x288 with 1 Axes>"
            ]
          },
          "metadata": {
            "needs_background": "light"
          }
        }
      ]
    },
    {
      "cell_type": "code",
      "metadata": {
        "id": "W06kYWflsJr9"
      },
      "source": [],
      "execution_count": null,
      "outputs": []
    }
  ]
}